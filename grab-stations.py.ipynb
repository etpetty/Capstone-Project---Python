{
 "cells": [
  {
   "cell_type": "code",
   "execution_count": 60,
   "metadata": {
    "scrolled": true
   },
   "outputs": [],
   "source": [
    "import requests\n",
    "\n",
    "def get_html():\n",
    "    s = requests.Session()\n",
    "    url = 'https://www.nws.noaa.gov/mdl/gfslamp/docs/stations_info.shtml'\n",
    "    page = s.get(url).text\n",
    "    return page\n",
    "    \n",
    "def get_state(text):\n",
    "    start = page.find('K1H2')\n",
    "    end = page.find('89.15')\n",
    "    return text[start:end]\n",
    "    \n",
    "def break_columns(line):\n",
    "    station = (1, 0)\n",
    "    latitude = (7, 0)\n",
    "    longitude = (6, 0)\n",
    "    print(station)"
   ]
  },
  {
   "cell_type": "code",
   "execution_count": null,
   "metadata": {},
   "outputs": [],
   "source": []
  }
 ],
 "metadata": {
  "kernelspec": {
   "display_name": "Python 3",
   "language": "python",
   "name": "python3"
  },
  "language_info": {
   "codemirror_mode": {
    "name": "ipython",
    "version": 3
   },
   "file_extension": ".py",
   "mimetype": "text/x-python",
   "name": "python",
   "nbconvert_exporter": "python",
   "pygments_lexer": "ipython3",
   "version": "3.7.6"
  }
 },
 "nbformat": 4,
 "nbformat_minor": 4
}
